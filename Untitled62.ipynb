{
 "cells": [
  {
   "cell_type": "code",
   "execution_count": null,
   "id": "bd99c226",
   "metadata": {},
   "outputs": [],
   "source": [
    "import nltk\n",
    "from nltk.sentiment.vader import SentimentIntensityAnalyzer\n",
    "\n",
    "# Download the VADER lexicon (if not already downloaded)\n",
    "nltk.download('vader_lexicon')\n",
    "\n",
    "# Sample social media posts\n",
    "social_media_posts = [\n",
    "    \"I love this product! It's amazing!\",\n",
    "    \"Terrible customer service. I'm so disappointed.\",\n",
    "    \"Just had a great time at the park with friends!\",\n",
    "    \"I feel neutral about this movie.\",\n",
    "]\n",
    "\n",
    "# Initialize the sentiment analyzer\n",
    "analyzer = SentimentIntensityAnalyzer()\n",
    "\n",
    "# Perform sentiment analysis on each post\n",
    "for post in social_media_posts:\n",
    "    sentiment_scores = analyzer.polarity_scores(post)\n",
    "    compound_score = sentiment_scores['compound']\n",
    "\n",
    "    if compound_score >= 0.05:\n",
    "        sentiment = 'Positive'\n",
    "    elif compound_score <= -0.05:\n",
    "        sentiment = 'Negative'\n",
    "    else:\n",
    "        sentiment = 'Neutral'\n",
    "\n",
    "    print(f\"Post: '{post}'\")\n",
    "    print(f\"Sentiment: {sentiment}\")\n",
    "    print(f\"Compound Score: {compound_score}\\n\")"
   ]
  }
 ],
 "metadata": {
  "kernelspec": {
   "display_name": "Python 3 (ipykernel)",
   "language": "python",
   "name": "python3"
  },
  "language_info": {
   "codemirror_mode": {
    "name": "ipython",
    "version": 3
   },
   "file_extension": ".py",
   "mimetype": "text/x-python",
   "name": "python",
   "nbconvert_exporter": "python",
   "pygments_lexer": "ipython3",
   "version": "3.9.13"
  }
 },
 "nbformat": 4,
 "nbformat_minor": 5
}
