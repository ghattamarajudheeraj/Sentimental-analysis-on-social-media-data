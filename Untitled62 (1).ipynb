{
 "cells": [
  {
   "cell_type": "code",
   "execution_count": null,
   "id": "f3e4f292",
   "metadata": {},
   "outputs": [],
   "source": [
    "import pandas as pd\n",
    "from textblob import TextBlob\n",
    "import nltk\n",
    "from nltk.sentiment.vader import SentimentIntensityAnalyzer\n",
    "nltk.download('vader_lexicon')\n",
    "\n",
    "# Load your social media dataset (replace 'your_data.csv' with your dataset file)\n",
    "data = pd.read_csv('your_data.csv')\n",
    "\n",
    "# Define a function to perform sentiment analysis using TextBlob\n",
    "def analyze_sentiment_textblob(text):\n",
    "    analysis = TextBlob(text)\n",
    "    if analysis.sentiment.polarity > 0:\n",
    "        return \"Positive\"\n",
    "    elif analysis.sentiment.polarity == 0:\n",
    "        return \"Neutral\"\n",
    "    else:\n",
    "        return \"Negative\"\n",
    "\n",
    "# Define a function to perform sentiment analysis using VADER\n",
    "def analyze_sentiment_vader(text):\n",
    "    analyzer = SentimentIntensityAnalyzer()\n",
    "    sentiment_scores = analyzer.polarity_scores(text)\n",
    "    if sentiment_scores['compound'] >= 0.05:\n",
    "        return \"Positive\"\n",
    "    elif sentiment_scores['compound'] <= -0.05:\n",
    "        return \"Negative\"\n",
    "    else:\n",
    "        return \"Neutral\"\n",
    "\n",
    "# Apply sentiment analysis functions to the entire dataset and create new columns\n",
    "data['TextBlob_Sentiment'] = data['text'].apply(analyze_sentiment_textblob)\n",
    "data['VADER_Sentiment'] = data['text'].apply(analyze_sentiment_vader)\n",
    "\n",
    "# Save the updated dataset with sentiment analysis results (optional)\n",
    "data.to_csv('sentiment_analyzed_data.csv', index=False)\n",
    "\n",
    "# Analyze and visualize the results as needed\n",
    "# For example, you can calculate the distribution of sentiment labels\n",
    "sentiment_distribution_textblob = data['TextBlob_Sentiment'].value_counts()\n",
    "sentiment_distribution_vader = data['VADER_Sentiment'].value_counts()\n",
    "\n",
    "# You can also perform further analysis or visualization based on your specific goals and requirements.\n",
    "\n",
    "# Display or save the sentiment distribution results\n",
    "print(\"Sentiment Distribution (TextBlob):\")\n",
    "print(sentiment_distribution_textblob)\n",
    "print(\"\\nSentiment Distribution (VADER):\")\n",
    "print(sentiment_distribution_vader)"
   ]
  }
 ],
 "metadata": {
  "kernelspec": {
   "display_name": "Python 3 (ipykernel)",
   "language": "python",
   "name": "python3"
  },
  "language_info": {
   "codemirror_mode": {
    "name": "ipython",
    "version": 3
   },
   "file_extension": ".py",
   "mimetype": "text/x-python",
   "name": "python",
   "nbconvert_exporter": "python",
   "pygments_lexer": "ipython3",
   "version": "3.9.13"
  }
 },
 "nbformat": 4,
 "nbformat_minor": 5
}
